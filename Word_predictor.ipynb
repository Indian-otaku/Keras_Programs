{
  "nbformat": 4,
  "nbformat_minor": 0,
  "metadata": {
    "colab": {
      "provenance": [],
      "gpuType": "T4",
      "include_colab_link": true
    },
    "kernelspec": {
      "name": "python3",
      "display_name": "Python 3"
    },
    "language_info": {
      "name": "python"
    },
    "accelerator": "GPU"
  },
  "cells": [
    {
      "cell_type": "markdown",
      "metadata": {
        "id": "view-in-github",
        "colab_type": "text"
      },
      "source": [
        "<a href=\"https://colab.research.google.com/github/Indian-otaku/Keras_Programs/blob/main/Word_predictor.ipynb\" target=\"_parent\"><img src=\"https://colab.research.google.com/assets/colab-badge.svg\" alt=\"Open In Colab\"/></a>"
      ]
    },
    {
      "cell_type": "code",
      "execution_count": 215,
      "metadata": {
        "colab": {
          "base_uri": "https://localhost:8080/"
        },
        "id": "il5s6dVyhNYh",
        "outputId": "27bbcc64-f21c-401f-98b1-f93bdf359c77"
      },
      "outputs": [
        {
          "output_type": "stream",
          "name": "stdout",
          "text": [
            "Drive is already ready to use!\n",
            "Kaggle api key is already ready to use!\n",
            "Data is already available!\n"
          ]
        }
      ],
      "source": [
        "from google.colab import drive\n",
        "import os\n",
        "import shutil\n",
        "import json\n",
        "\n",
        "d_or_c_option = \"d\"\n",
        "d_or_c_name = \"arnavsharmaas/chatbot-dataset-topical-chat\" #\"grafstor/simple-dialogs-for-chatbot\"\n",
        "\n",
        "os.system(\"pip install kaggle\")\n",
        "\n",
        "kaggle_key_path = \"/content/drive/MyDrive/Kaggle API Key/kaggle.json\"\n",
        "kaggle_key_dest = \"/.kaggle\"\n",
        "dataset_path = \"/content/data/\"\n",
        "\n",
        "if os.path.exists(dataset_path) is False:\n",
        "  if d_or_c_option:\n",
        "    d_or_c = d_or_c_option\n",
        "  else:\n",
        "    d_or_c = str.lower(input(\"Enter D for dataset or C for competition: \"))\n",
        "  if (d_or_c == 'd'):\n",
        "    if d_or_c_name:\n",
        "      d_name = d_or_c_name\n",
        "    else:\n",
        "      d_name = input(\"Enter the name of dataset in 'owner/dataset' format: \")\n",
        "  elif (d_or_c == 'c'):\n",
        "    if d_or_c_name:\n",
        "      c_name = d_or_c_name\n",
        "    else:\n",
        "      c_name = input(\"Enter the name of competition in 'owner/competition' format: \")\n",
        "  else:\n",
        "    print(\"Enter valid option!\")\n",
        "\n",
        "if os.path.exists(\"/content/drive\") is False:\n",
        "  drive.mount('/content/drive')\n",
        "  print(\"Drive is ready to use!\")\n",
        "else:\n",
        "  print(\"Drive is already ready to use!\")\n",
        "\n",
        "if os.path.exists(os.path.join(kaggle_key_dest, \"kaggle.json\")) is False:\n",
        "  os.mkdir(kaggle_key_dest)\n",
        "  shutil.copy(kaggle_key_path, kaggle_key_dest)\n",
        "  os.chmod(os.path.join(kaggle_key_dest, \"kaggle.json\"), 600)\n",
        "  print(\"Kaggle api key is ready to use!\")\n",
        "else:\n",
        "  print(\"Kaggle api key is already ready to use!\")\n",
        "\n",
        "if os.path.exists(dataset_path) is False:\n",
        "  with open(os.path.join(kaggle_key_dest, \"kaggle.json\"), \"r\") as f:\n",
        "    data = json.load(f)\n",
        "  os.environ[\"KAGGLE_USERNAME\"] = data[\"username\"]\n",
        "  os.environ[\"KAGGLE_KEY\"] = data[\"key\"]\n",
        "  del data\n",
        "\n",
        "  import kaggle\n",
        "\n",
        "  kaggle.api.authenticate()\n",
        "  if (d_or_c == 'd'):\n",
        "    kaggle.api.dataset_download_files(\n",
        "      d_name,\n",
        "      path=dataset_path,\n",
        "      unzip=True\n",
        "    )\n",
        "  elif (d_or_c == 'c'):\n",
        "    kaggle.api.competition_download_files(\n",
        "        c_name,\n",
        "        path=dataset_path\n",
        "    )\n",
        "  print(\"Data was downloaded!\")\n",
        "else:\n",
        "  print(\"Data is already available!\")\n"
      ]
    },
    {
      "cell_type": "code",
      "source": [
        "kaggle.api.dataset_download_files(\n",
        "    \"grafstor/simple-dialogs-for-chatbot\",\n",
        "    path=dataset_path,\n",
        "    unzip=True\n",
        ")"
      ],
      "metadata": {
        "colab": {
          "base_uri": "https://localhost:8080/"
        },
        "id": "mCdvsrV3HplP",
        "outputId": "005348c0-32e1-4864-96b2-8e25c41bae74"
      },
      "execution_count": 216,
      "outputs": [
        {
          "output_type": "stream",
          "name": "stderr",
          "text": [
            "2023-12-22 11:47:28,280 WARNING Retrying (Retry(total=2, connect=None, read=None, redirect=None, status=None)) after connection broken by 'RemoteDisconnected('Remote end closed connection without response')': /api/v1/datasets/download/grafstor/simple-dialogs-for-chatbot?datasetVersionNumber=None\n",
            "WARNING:urllib3.connectionpool:Retrying (Retry(total=2, connect=None, read=None, redirect=None, status=None)) after connection broken by 'RemoteDisconnected('Remote end closed connection without response')': /api/v1/datasets/download/grafstor/simple-dialogs-for-chatbot?datasetVersionNumber=None\n"
          ]
        }
      ]
    },
    {
      "cell_type": "code",
      "source": [
        "import numpy as np\n",
        "import pandas as pd\n",
        "\n",
        "import nltk\n",
        "nltk.download('punkt')\n",
        "\n",
        "import tensorflow as tf\n",
        "from tensorflow.keras import layers\n",
        "from tensorflow.keras.models import Sequential"
      ],
      "metadata": {
        "colab": {
          "base_uri": "https://localhost:8080/"
        },
        "id": "jFAEQ_IJljD9",
        "outputId": "4c05a4d0-0ef8-43b4-a9e8-26c094a5dc52"
      },
      "execution_count": 217,
      "outputs": [
        {
          "output_type": "stream",
          "name": "stderr",
          "text": [
            "[nltk_data] Downloading package punkt to /root/nltk_data...\n",
            "[nltk_data]   Package punkt is already up-to-date!\n"
          ]
        }
      ]
    },
    {
      "cell_type": "code",
      "source": [
        "data1 = pd.read_csv(\"/content/data/topical_chat.csv\")\n",
        "data1.head()"
      ],
      "metadata": {
        "id": "fUX7EulenALK",
        "colab": {
          "base_uri": "https://localhost:8080/",
          "height": 206
        },
        "outputId": "97514b3f-02c6-4868-ee4f-08332186a90e"
      },
      "execution_count": 218,
      "outputs": [
        {
          "output_type": "execute_result",
          "data": {
            "text/plain": [
              "   conversation_id                                            message  \\\n",
              "0                1              Are you a fan of Google or Microsoft?   \n",
              "1                1   Both are excellent technology they are helpfu...   \n",
              "2                1   I'm not  a huge fan of Google, but I use it a...   \n",
              "3                1   Google provides online related services and p...   \n",
              "4                1   Yeah, their services are good. I'm just not a...   \n",
              "\n",
              "                 sentiment  \n",
              "0   Curious to dive deeper  \n",
              "1   Curious to dive deeper  \n",
              "2   Curious to dive deeper  \n",
              "3   Curious to dive deeper  \n",
              "4   Curious to dive deeper  "
            ],
            "text/html": [
              "\n",
              "  <div id=\"df-e377a501-ac7c-4899-b01c-8db1c1ef41e8\" class=\"colab-df-container\">\n",
              "    <div>\n",
              "<style scoped>\n",
              "    .dataframe tbody tr th:only-of-type {\n",
              "        vertical-align: middle;\n",
              "    }\n",
              "\n",
              "    .dataframe tbody tr th {\n",
              "        vertical-align: top;\n",
              "    }\n",
              "\n",
              "    .dataframe thead th {\n",
              "        text-align: right;\n",
              "    }\n",
              "</style>\n",
              "<table border=\"1\" class=\"dataframe\">\n",
              "  <thead>\n",
              "    <tr style=\"text-align: right;\">\n",
              "      <th></th>\n",
              "      <th>conversation_id</th>\n",
              "      <th>message</th>\n",
              "      <th>sentiment</th>\n",
              "    </tr>\n",
              "  </thead>\n",
              "  <tbody>\n",
              "    <tr>\n",
              "      <th>0</th>\n",
              "      <td>1</td>\n",
              "      <td>Are you a fan of Google or Microsoft?</td>\n",
              "      <td>Curious to dive deeper</td>\n",
              "    </tr>\n",
              "    <tr>\n",
              "      <th>1</th>\n",
              "      <td>1</td>\n",
              "      <td>Both are excellent technology they are helpfu...</td>\n",
              "      <td>Curious to dive deeper</td>\n",
              "    </tr>\n",
              "    <tr>\n",
              "      <th>2</th>\n",
              "      <td>1</td>\n",
              "      <td>I'm not  a huge fan of Google, but I use it a...</td>\n",
              "      <td>Curious to dive deeper</td>\n",
              "    </tr>\n",
              "    <tr>\n",
              "      <th>3</th>\n",
              "      <td>1</td>\n",
              "      <td>Google provides online related services and p...</td>\n",
              "      <td>Curious to dive deeper</td>\n",
              "    </tr>\n",
              "    <tr>\n",
              "      <th>4</th>\n",
              "      <td>1</td>\n",
              "      <td>Yeah, their services are good. I'm just not a...</td>\n",
              "      <td>Curious to dive deeper</td>\n",
              "    </tr>\n",
              "  </tbody>\n",
              "</table>\n",
              "</div>\n",
              "    <div class=\"colab-df-buttons\">\n",
              "\n",
              "  <div class=\"colab-df-container\">\n",
              "    <button class=\"colab-df-convert\" onclick=\"convertToInteractive('df-e377a501-ac7c-4899-b01c-8db1c1ef41e8')\"\n",
              "            title=\"Convert this dataframe to an interactive table.\"\n",
              "            style=\"display:none;\">\n",
              "\n",
              "  <svg xmlns=\"http://www.w3.org/2000/svg\" height=\"24px\" viewBox=\"0 -960 960 960\">\n",
              "    <path d=\"M120-120v-720h720v720H120Zm60-500h600v-160H180v160Zm220 220h160v-160H400v160Zm0 220h160v-160H400v160ZM180-400h160v-160H180v160Zm440 0h160v-160H620v160ZM180-180h160v-160H180v160Zm440 0h160v-160H620v160Z\"/>\n",
              "  </svg>\n",
              "    </button>\n",
              "\n",
              "  <style>\n",
              "    .colab-df-container {\n",
              "      display:flex;\n",
              "      gap: 12px;\n",
              "    }\n",
              "\n",
              "    .colab-df-convert {\n",
              "      background-color: #E8F0FE;\n",
              "      border: none;\n",
              "      border-radius: 50%;\n",
              "      cursor: pointer;\n",
              "      display: none;\n",
              "      fill: #1967D2;\n",
              "      height: 32px;\n",
              "      padding: 0 0 0 0;\n",
              "      width: 32px;\n",
              "    }\n",
              "\n",
              "    .colab-df-convert:hover {\n",
              "      background-color: #E2EBFA;\n",
              "      box-shadow: 0px 1px 2px rgba(60, 64, 67, 0.3), 0px 1px 3px 1px rgba(60, 64, 67, 0.15);\n",
              "      fill: #174EA6;\n",
              "    }\n",
              "\n",
              "    .colab-df-buttons div {\n",
              "      margin-bottom: 4px;\n",
              "    }\n",
              "\n",
              "    [theme=dark] .colab-df-convert {\n",
              "      background-color: #3B4455;\n",
              "      fill: #D2E3FC;\n",
              "    }\n",
              "\n",
              "    [theme=dark] .colab-df-convert:hover {\n",
              "      background-color: #434B5C;\n",
              "      box-shadow: 0px 1px 3px 1px rgba(0, 0, 0, 0.15);\n",
              "      filter: drop-shadow(0px 1px 2px rgba(0, 0, 0, 0.3));\n",
              "      fill: #FFFFFF;\n",
              "    }\n",
              "  </style>\n",
              "\n",
              "    <script>\n",
              "      const buttonEl =\n",
              "        document.querySelector('#df-e377a501-ac7c-4899-b01c-8db1c1ef41e8 button.colab-df-convert');\n",
              "      buttonEl.style.display =\n",
              "        google.colab.kernel.accessAllowed ? 'block' : 'none';\n",
              "\n",
              "      async function convertToInteractive(key) {\n",
              "        const element = document.querySelector('#df-e377a501-ac7c-4899-b01c-8db1c1ef41e8');\n",
              "        const dataTable =\n",
              "          await google.colab.kernel.invokeFunction('convertToInteractive',\n",
              "                                                    [key], {});\n",
              "        if (!dataTable) return;\n",
              "\n",
              "        const docLinkHtml = 'Like what you see? Visit the ' +\n",
              "          '<a target=\"_blank\" href=https://colab.research.google.com/notebooks/data_table.ipynb>data table notebook</a>'\n",
              "          + ' to learn more about interactive tables.';\n",
              "        element.innerHTML = '';\n",
              "        dataTable['output_type'] = 'display_data';\n",
              "        await google.colab.output.renderOutput(dataTable, element);\n",
              "        const docLink = document.createElement('div');\n",
              "        docLink.innerHTML = docLinkHtml;\n",
              "        element.appendChild(docLink);\n",
              "      }\n",
              "    </script>\n",
              "  </div>\n",
              "\n",
              "\n",
              "<div id=\"df-069ee0fc-7d30-4ed5-8bbd-d2898b8034af\">\n",
              "  <button class=\"colab-df-quickchart\" onclick=\"quickchart('df-069ee0fc-7d30-4ed5-8bbd-d2898b8034af')\"\n",
              "            title=\"Suggest charts\"\n",
              "            style=\"display:none;\">\n",
              "\n",
              "<svg xmlns=\"http://www.w3.org/2000/svg\" height=\"24px\"viewBox=\"0 0 24 24\"\n",
              "     width=\"24px\">\n",
              "    <g>\n",
              "        <path d=\"M19 3H5c-1.1 0-2 .9-2 2v14c0 1.1.9 2 2 2h14c1.1 0 2-.9 2-2V5c0-1.1-.9-2-2-2zM9 17H7v-7h2v7zm4 0h-2V7h2v10zm4 0h-2v-4h2v4z\"/>\n",
              "    </g>\n",
              "</svg>\n",
              "  </button>\n",
              "\n",
              "<style>\n",
              "  .colab-df-quickchart {\n",
              "      --bg-color: #E8F0FE;\n",
              "      --fill-color: #1967D2;\n",
              "      --hover-bg-color: #E2EBFA;\n",
              "      --hover-fill-color: #174EA6;\n",
              "      --disabled-fill-color: #AAA;\n",
              "      --disabled-bg-color: #DDD;\n",
              "  }\n",
              "\n",
              "  [theme=dark] .colab-df-quickchart {\n",
              "      --bg-color: #3B4455;\n",
              "      --fill-color: #D2E3FC;\n",
              "      --hover-bg-color: #434B5C;\n",
              "      --hover-fill-color: #FFFFFF;\n",
              "      --disabled-bg-color: #3B4455;\n",
              "      --disabled-fill-color: #666;\n",
              "  }\n",
              "\n",
              "  .colab-df-quickchart {\n",
              "    background-color: var(--bg-color);\n",
              "    border: none;\n",
              "    border-radius: 50%;\n",
              "    cursor: pointer;\n",
              "    display: none;\n",
              "    fill: var(--fill-color);\n",
              "    height: 32px;\n",
              "    padding: 0;\n",
              "    width: 32px;\n",
              "  }\n",
              "\n",
              "  .colab-df-quickchart:hover {\n",
              "    background-color: var(--hover-bg-color);\n",
              "    box-shadow: 0 1px 2px rgba(60, 64, 67, 0.3), 0 1px 3px 1px rgba(60, 64, 67, 0.15);\n",
              "    fill: var(--button-hover-fill-color);\n",
              "  }\n",
              "\n",
              "  .colab-df-quickchart-complete:disabled,\n",
              "  .colab-df-quickchart-complete:disabled:hover {\n",
              "    background-color: var(--disabled-bg-color);\n",
              "    fill: var(--disabled-fill-color);\n",
              "    box-shadow: none;\n",
              "  }\n",
              "\n",
              "  .colab-df-spinner {\n",
              "    border: 2px solid var(--fill-color);\n",
              "    border-color: transparent;\n",
              "    border-bottom-color: var(--fill-color);\n",
              "    animation:\n",
              "      spin 1s steps(1) infinite;\n",
              "  }\n",
              "\n",
              "  @keyframes spin {\n",
              "    0% {\n",
              "      border-color: transparent;\n",
              "      border-bottom-color: var(--fill-color);\n",
              "      border-left-color: var(--fill-color);\n",
              "    }\n",
              "    20% {\n",
              "      border-color: transparent;\n",
              "      border-left-color: var(--fill-color);\n",
              "      border-top-color: var(--fill-color);\n",
              "    }\n",
              "    30% {\n",
              "      border-color: transparent;\n",
              "      border-left-color: var(--fill-color);\n",
              "      border-top-color: var(--fill-color);\n",
              "      border-right-color: var(--fill-color);\n",
              "    }\n",
              "    40% {\n",
              "      border-color: transparent;\n",
              "      border-right-color: var(--fill-color);\n",
              "      border-top-color: var(--fill-color);\n",
              "    }\n",
              "    60% {\n",
              "      border-color: transparent;\n",
              "      border-right-color: var(--fill-color);\n",
              "    }\n",
              "    80% {\n",
              "      border-color: transparent;\n",
              "      border-right-color: var(--fill-color);\n",
              "      border-bottom-color: var(--fill-color);\n",
              "    }\n",
              "    90% {\n",
              "      border-color: transparent;\n",
              "      border-bottom-color: var(--fill-color);\n",
              "    }\n",
              "  }\n",
              "</style>\n",
              "\n",
              "  <script>\n",
              "    async function quickchart(key) {\n",
              "      const quickchartButtonEl =\n",
              "        document.querySelector('#' + key + ' button');\n",
              "      quickchartButtonEl.disabled = true;  // To prevent multiple clicks.\n",
              "      quickchartButtonEl.classList.add('colab-df-spinner');\n",
              "      try {\n",
              "        const charts = await google.colab.kernel.invokeFunction(\n",
              "            'suggestCharts', [key], {});\n",
              "      } catch (error) {\n",
              "        console.error('Error during call to suggestCharts:', error);\n",
              "      }\n",
              "      quickchartButtonEl.classList.remove('colab-df-spinner');\n",
              "      quickchartButtonEl.classList.add('colab-df-quickchart-complete');\n",
              "    }\n",
              "    (() => {\n",
              "      let quickchartButtonEl =\n",
              "        document.querySelector('#df-069ee0fc-7d30-4ed5-8bbd-d2898b8034af button');\n",
              "      quickchartButtonEl.style.display =\n",
              "        google.colab.kernel.accessAllowed ? 'block' : 'none';\n",
              "    })();\n",
              "  </script>\n",
              "</div>\n",
              "    </div>\n",
              "  </div>\n"
            ]
          },
          "metadata": {},
          "execution_count": 218
        }
      ]
    },
    {
      "cell_type": "code",
      "source": [
        "dataset = data1[\"message\"].values\n",
        "np.random.seed(60)\n",
        "np.random.shuffle(dataset)"
      ],
      "metadata": {
        "id": "C9yEz8y3nAId"
      },
      "execution_count": 219,
      "outputs": []
    },
    {
      "cell_type": "code",
      "source": [
        "len(dataset)"
      ],
      "metadata": {
        "id": "cLiRqWn7LLaW",
        "colab": {
          "base_uri": "https://localhost:8080/"
        },
        "outputId": "5ab8338d-3f56-4e8b-9230-2df7ea6cca1e"
      },
      "execution_count": 220,
      "outputs": [
        {
          "output_type": "execute_result",
          "data": {
            "text/plain": [
              "188378"
            ]
          },
          "metadata": {},
          "execution_count": 220
        }
      ]
    },
    {
      "cell_type": "code",
      "source": [
        "dataset[:5]"
      ],
      "metadata": {
        "colab": {
          "base_uri": "https://localhost:8080/"
        },
        "id": "RS-p0_oSGiI3",
        "outputId": "cb0d0fea-d7b8-4e57-e15b-f0536da21f30"
      },
      "execution_count": 221,
      "outputs": [
        {
          "output_type": "execute_result",
          "data": {
            "text/plain": [
              "array([' I did when I was a kid.  I played more outside than kids to today.  More TV and video game entertainment now.  ',\n",
              "       ' Yes I totally agree with you. And of quarterbacks whom you choose? I for instance definitely Tom Brady',\n",
              "       ' It was Nixon, had to be, Michael Jordan didnt endorese a black democratic candidate because that could affect the sales of his shoes',\n",
              "       \" Pixar studio has a secret room that we can sadly never visit since we aren't celebrities!\",\n",
              "       \" Ha, that's funny. I suppose it is cheeper than buying a car.\"],\n",
              "      dtype=object)"
            ]
          },
          "metadata": {},
          "execution_count": 221
        }
      ]
    },
    {
      "cell_type": "code",
      "source": [
        "dataset = dataset[:10000]"
      ],
      "metadata": {
        "id": "q_IUAoSeG92p"
      },
      "execution_count": 222,
      "outputs": []
    },
    {
      "cell_type": "code",
      "source": [
        "data1 = \"\\n\".join(dataset)\n",
        "data1[:500]"
      ],
      "metadata": {
        "id": "qx1YDnl1nAGC",
        "colab": {
          "base_uri": "https://localhost:8080/",
          "height": 126
        },
        "outputId": "57c922cc-bda3-4b21-fe61-28bc108b5f97"
      },
      "execution_count": 223,
      "outputs": [
        {
          "output_type": "execute_result",
          "data": {
            "text/plain": [
              "\" I did when I was a kid.  I played more outside than kids to today.  More TV and video game entertainment now.  \\n Yes I totally agree with you. And of quarterbacks whom you choose? I for instance definitely Tom Brady\\n It was Nixon, had to be, Michael Jordan didnt endorese a black democratic candidate because that could affect the sales of his shoes\\n Pixar studio has a secret room that we can sadly never visit since we aren't celebrities!\\n Ha, that's funny. I suppose it is cheeper than buying a c\""
            ],
            "application/vnd.google.colaboratory.intrinsic+json": {
              "type": "string"
            }
          },
          "metadata": {},
          "execution_count": 223
        }
      ]
    },
    {
      "cell_type": "code",
      "source": [
        "len(data1)"
      ],
      "metadata": {
        "id": "zGnN2GdPzit1",
        "colab": {
          "base_uri": "https://localhost:8080/"
        },
        "outputId": "e04ce0c9-5d0e-48bd-93d4-14a3a80aa43a"
      },
      "execution_count": 224,
      "outputs": [
        {
          "output_type": "execute_result",
          "data": {
            "text/plain": [
              "1046376"
            ]
          },
          "metadata": {},
          "execution_count": 224
        }
      ]
    },
    {
      "cell_type": "code",
      "source": [
        "text_lens = [len(text) for text in dataset]"
      ],
      "metadata": {
        "id": "o5gk7foivkcC"
      },
      "execution_count": 225,
      "outputs": []
    },
    {
      "cell_type": "code",
      "source": [
        "len(text_lens)"
      ],
      "metadata": {
        "colab": {
          "base_uri": "https://localhost:8080/"
        },
        "id": "XnYCj9d0LGDP",
        "outputId": "245b3e7b-b6d9-48b0-8091-85259f143382"
      },
      "execution_count": 226,
      "outputs": [
        {
          "output_type": "execute_result",
          "data": {
            "text/plain": [
              "10000"
            ]
          },
          "metadata": {},
          "execution_count": 226
        }
      ]
    },
    {
      "cell_type": "code",
      "source": [
        "import matplotlib.pyplot as plt\n",
        "plt.hist(text_lens)\n",
        "plt.show()\n",
        "print(max(text_lens))\n",
        "print(min(text_lens))"
      ],
      "metadata": {
        "colab": {
          "base_uri": "https://localhost:8080/",
          "height": 466
        },
        "id": "oPIgL4wKvtJG",
        "outputId": "29f7ff67-81cc-45b3-e071-323b08dab900"
      },
      "execution_count": 227,
      "outputs": [
        {
          "output_type": "display_data",
          "data": {
            "text/plain": [
              "<Figure size 640x480 with 1 Axes>"
            ],
            "image/png": "[encoded data removed]"
          },
          "metadata": {}
        },
        {
          "output_type": "stream",
          "name": "stdout",
          "text": [
            "543\n",
            "2\n"
          ]
        }
      ]
    },
    {
      "cell_type": "code",
      "source": [
        "with open(\"/content/data/dialogs.txt\") as f:\n",
        "    data2 = f.read()\n",
        "\n",
        "data2[:500]"
      ],
      "metadata": {
        "colab": {
          "base_uri": "https://localhost:8080/",
          "height": 126
        },
        "id": "G2XkTk4nHgc-",
        "outputId": "880b2921-379a-4391-dff6-18fe54a2b682"
      },
      "execution_count": 228,
      "outputs": [
        {
          "output_type": "execute_result",
          "data": {
            "text/plain": [
              "\"hi, how are you doing?\\ti'm fine. how about yourself?\\ni'm fine. how about yourself?\\ti'm pretty good. thanks for asking.\\ni'm pretty good. thanks for asking.\\tno problem. so how have you been?\\nno problem. so how have you been?\\ti've been great. what about you?\\ni've been great. what about you?\\ti've been good. i'm in school right now.\\ni've been good. i'm in school right now.\\twhat school do you go to?\\nwhat school do you go to?\\ti go to pcc.\\ni go to pcc.\\tdo you like it there?\\ndo you like it there?\\tit's ok\""
            ],
            "application/vnd.google.colaboratory.intrinsic+json": {
              "type": "string"
            }
          },
          "metadata": {},
          "execution_count": 228
        }
      ]
    },
    {
      "cell_type": "code",
      "source": [
        "data2[-500:]"
      ],
      "metadata": {
        "colab": {
          "base_uri": "https://localhost:8080/",
          "height": 126
        },
        "id": "Gidc6j3_JXZr",
        "outputId": "15f8aabb-b587-4790-af2f-d0d5c20eca92"
      },
      "execution_count": 229,
      "outputs": [
        {
          "output_type": "execute_result",
          "data": {
            "text/plain": [
              "\" it's old age, why don't both of your hands hurt?\\tthat's a good question. maybe it's not old age.\\nthat's a good question. maybe it's not old age.\\tare you right-handed?\\nare you right-handed?\\tyes. all my life.\\nyes. all my life.\\tyou're wearing out your right hand. stop using it so much.\\nyou're wearing out your right hand. stop using it so much.\\tbut i do all my writing with my right hand.\\nbut i do all my writing with my right hand.\\tstart typing instead. that way your left hand will do half the work.\""
            ],
            "application/vnd.google.colaboratory.intrinsic+json": {
              "type": "string"
            }
          },
          "metadata": {},
          "execution_count": 229
        }
      ]
    },
    {
      "cell_type": "code",
      "source": [
        "data = data1 + data2\n",
        "data[:50]"
      ],
      "metadata": {
        "colab": {
          "base_uri": "https://localhost:8080/",
          "height": 35
        },
        "id": "OHqweKa-IsGI",
        "outputId": "e807eb41-aa7f-4b7b-d937-9b7fcb68b4a4"
      },
      "execution_count": 230,
      "outputs": [
        {
          "output_type": "execute_result",
          "data": {
            "text/plain": [
              "' I did when I was a kid.  I played more outside th'"
            ],
            "application/vnd.google.colaboratory.intrinsic+json": {
              "type": "string"
            }
          },
          "metadata": {},
          "execution_count": 230
        }
      ]
    },
    {
      "cell_type": "code",
      "source": [
        "data[-50:]"
      ],
      "metadata": {
        "colab": {
          "base_uri": "https://localhost:8080/",
          "height": 35
        },
        "id": "B6BQ-nKgJTOG",
        "outputId": "7b3bf8b3-ae52-4fe7-d841-5d59a55a9b6f"
      },
      "execution_count": 231,
      "outputs": [
        {
          "output_type": "execute_result",
          "data": {
            "text/plain": [
              "'ad. that way your left hand will do half the work.'"
            ],
            "application/vnd.google.colaboratory.intrinsic+json": {
              "type": "string"
            }
          },
          "metadata": {},
          "execution_count": 231
        }
      ]
    },
    {
      "cell_type": "code",
      "source": [
        "pattern = r'\\b\\w+\\b|\\.|,|\\?|\\n|#|[\\U0001F600-\\U0001F64F\\U0001F300-\\U0001F5FF\\U0001F680-\\U0001F6FF\\U0001F700-\\U0001F77F\\U0001F780-\\U0001F7FF\\U0001F800-\\U0001F8FF\\U0001F900-\\U0001F9FF\\U0001FA00-\\U0001FA6F\\U0001FA70-\\U0001FAFF\\U00002600-\\U000027BF\\U0001F004]'\n",
        "\n",
        "reg_tokenizer = nltk.tokenize.RegexpTokenizer(pattern)\n",
        "unique_tokens, count = np.unique(reg_tokenizer.tokenize(str.lower(data)), return_counts=True)"
      ],
      "metadata": {
        "id": "YxuuYuwoiXaQ"
      },
      "execution_count": 232,
      "outputs": []
    },
    {
      "cell_type": "code",
      "source": [
        "len(unique_tokens)"
      ],
      "metadata": {
        "colab": {
          "base_uri": "https://localhost:8080/"
        },
        "id": "6ptBuKrakzfd",
        "outputId": "58faef6f-69fe-4b19-d09f-fe0c179a44d7"
      },
      "execution_count": 233,
      "outputs": [
        {
          "output_type": "execute_result",
          "data": {
            "text/plain": [
              "11091"
            ]
          },
          "metadata": {},
          "execution_count": 233
        }
      ]
    },
    {
      "cell_type": "code",
      "source": [
        "unique_tokens[count.argsort()[:26][::-1]]"
      ],
      "metadata": {
        "colab": {
          "base_uri": "https://localhost:8080/"
        },
        "id": "qhjniMG4Lj59",
        "outputId": "b57f6796-0e12-45b1-e461-c8d8a3d82e44"
      },
      "execution_count": 234,
      "outputs": [
        {
          "output_type": "execute_result",
          "data": {
            "text/plain": [
              "array(['lester', 'leppard', 'learns', 'leonardo', 'leary', 'lease',\n",
              "       'leftover', 'leg', 'legalities', 'legendary', 'legends', 'legett',\n",
              "       'legged', 'leggett', 'legitimately', 'legoland', 'legos',\n",
              "       'leisure', 'leisurely', 'lemons', 'lends', 'lengths', 'lenient',\n",
              "       'lense', 'lenses', 'kamp'], dtype='<U34')"
            ]
          },
          "metadata": {},
          "execution_count": 234
        }
      ]
    },
    {
      "cell_type": "code",
      "source": [
        "indices = count.argsort()[26:][::-1]"
      ],
      "metadata": {
        "id": "j3micNbykfnV"
      },
      "execution_count": 235,
      "outputs": []
    },
    {
      "cell_type": "code",
      "source": [
        "unique_tokens[indices][:50]"
      ],
      "metadata": {
        "colab": {
          "base_uri": "https://localhost:8080/"
        },
        "id": "EYO4_3akmP36",
        "outputId": "337faec7-67ed-4157-b689-553f0a5a4678"
      },
      "execution_count": 236,
      "outputs": [
        {
          "output_type": "execute_result",
          "data": {
            "text/plain": [
              "array(['.', '\\n', 'i', 'the', ',', 'a', 'that', 'to', 'you', '?', 'it',\n",
              "       'of', 'is', 'in', 'and', 's', 'have', 'they', 'do', 'was', 't',\n",
              "       'for', 'like', 'know', 'he', 'are', 'did', 'but', 'not', 'be',\n",
              "       'what', 'on', 'so', 'about', 'think', 'would', 'with', 'there',\n",
              "       'how', 'yes', 'can', 'good', 'yeah', 'too', 'as', 'my', 'one',\n",
              "       'no', 'if', 'really'], dtype='<U34')"
            ]
          },
          "metadata": {},
          "execution_count": 236
        }
      ]
    },
    {
      "cell_type": "code",
      "source": [
        "from collections import defaultdict\n",
        "\n",
        "def unknown_token():\n",
        "    return \"[UNK]\"\n",
        "\n",
        "indice_to_token = defaultdict(unknown_token)\n",
        "indice_to_token[0] = \"[UNK]\"\n",
        "\n",
        "for i, indice in enumerate(indices, start=0):\n",
        "    token = unique_tokens[indice]\n",
        "    indice_to_token[i] = str.lower(token)\n",
        "\n",
        "def unknown_index():\n",
        "    return 0\n",
        "\n",
        "token_to_indice = defaultdict(unknown_index)\n",
        "\n",
        "for indice, token in indice_to_token.items():\n",
        "    token_to_indice[tuple(token)] = indice\n"
      ],
      "metadata": {
        "id": "EztLcjHTkE-X"
      },
      "execution_count": 237,
      "outputs": []
    },
    {
      "cell_type": "code",
      "source": [
        "len(indice_to_token)"
      ],
      "metadata": {
        "colab": {
          "base_uri": "https://localhost:8080/"
        },
        "id": "lxgTT9jXuarK",
        "outputId": "ddcfc765-c348-4aef-ae36-d7044c241710"
      },
      "execution_count": 238,
      "outputs": [
        {
          "output_type": "execute_result",
          "data": {
            "text/plain": [
              "11065"
            ]
          },
          "metadata": {},
          "execution_count": 238
        }
      ]
    },
    {
      "cell_type": "code",
      "source": [
        "len(token_to_indice)"
      ],
      "metadata": {
        "colab": {
          "base_uri": "https://localhost:8080/"
        },
        "id": "vbYME-5hucVj",
        "outputId": "1ed76ff0-955f-4b1d-f833-cd7ac7559389"
      },
      "execution_count": 239,
      "outputs": [
        {
          "output_type": "execute_result",
          "data": {
            "text/plain": [
              "11065"
            ]
          },
          "metadata": {},
          "execution_count": 239
        }
      ]
    },
    {
      "cell_type": "code",
      "source": [
        "token_to_indice[tuple(\"cheief\")]"
      ],
      "metadata": {
        "colab": {
          "base_uri": "https://localhost:8080/"
        },
        "id": "3mJP2kZxn3us",
        "outputId": "3494b9ab-35be-4ab6-9801-ac6228801fab"
      },
      "execution_count": 240,
      "outputs": [
        {
          "output_type": "execute_result",
          "data": {
            "text/plain": [
              "0"
            ]
          },
          "metadata": {},
          "execution_count": 240
        }
      ]
    },
    {
      "cell_type": "code",
      "source": [
        "eg = reg_tokenizer.tokenize(str.lower(data[:500]))\n",
        "for token in eg:\n",
        "    indice = token_to_indice[tuple(token)]\n",
        "    print(indice_to_token[indice], end=\" \")"
      ],
      "metadata": {
        "colab": {
          "base_uri": "https://localhost:8080/"
        },
        "id": "sH1j4Mclyg8D",
        "outputId": "b053cc5b-4d43-4367-8987-2e5cf4bb594f"
      },
      "execution_count": 241,
      "outputs": [
        {
          "output_type": "stream",
          "name": "stdout",
          "text": [
            "i did when i was a kid . i played more outside than kids to today . more tv and video game entertainment now . \n",
            " yes i totally agree with you . and of quarterbacks whom you choose ? i for instance definitely tom brady \n",
            " it was nixon , had to be , michael jordan didnt endorese a black democratic candidate because that could affect the sales of his shoes \n",
            " pixar studio has a secret room that we can sadly never visit since we aren t celebrities \n",
            " ha , that s funny . i suppose it is cheeper than buying a c "
          ]
        }
      ]
    },
    {
      "cell_type": "code",
      "source": [
        "dataset = []\n",
        "for sent in data.split(\"\\n\"):\n",
        "    sent = sent + \"\\n\"\n",
        "    sent = reg_tokenizer.tokenize(str.lower(sent))\n",
        "    sent_data = []\n",
        "    for token in sent:\n",
        "        indice = token_to_indice[tuple(token)]\n",
        "        sent_data.append(indice)\n",
        "    dataset.append(sent_data)"
      ],
      "metadata": {
        "id": "qKujgzIOyzV5"
      },
      "execution_count": 242,
      "outputs": []
    },
    {
      "cell_type": "code",
      "source": [
        "np.array(dataset[:5])"
      ],
      "metadata": {
        "colab": {
          "base_uri": "https://localhost:8080/"
        },
        "id": "trPyI5YKtLFE",
        "outputId": "482dc94f-70af-4e8b-af22-941b567f1273"
      },
      "execution_count": 243,
      "outputs": [
        {
          "output_type": "stream",
          "name": "stderr",
          "text": [
            "<ipython-input-243-a57b18587a6e>:1: VisibleDeprecationWarning: Creating an ndarray from ragged nested sequences (which is a list-or-tuple of lists-or-tuples-or ndarrays with different lengths or shapes) is deprecated. If you meant to do this, you must specify 'dtype=object' when creating the ndarray.\n",
            "  np.array(dataset[:5])\n"
          ]
        },
        {
          "output_type": "execute_result",
          "data": {
            "text/plain": [
              "array([list([2, 26, 66, 2, 19, 5, 572, 0, 2, 248, 69, 685, 106, 253, 7, 202, 0, 69, 185, 14, 352, 128, 489, 104, 0, 1]),\n",
              "       list([39, 2, 674, 157, 36, 8, 0, 14, 11, 2777, 8925, 8, 2021, 9, 2, 21, 1499, 246, 631, 663, 1]),\n",
              "       list([10, 19, 1289, 4, 71, 7, 29, 4, 599, 645, 454, 9937, 5, 368, 2390, 1000, 92, 6, 125, 3366, 3, 3609, 11, 60, 335, 1]),\n",
              "       list([1422, 958, 59, 5, 1471, 537, 6, 51, 40, 1797, 105, 633, 193, 51, 778, 20, 859, 1]),\n",
              "       list([364, 4, 6, 15, 161, 0, 2, 1010, 10, 12, 7227, 106, 1148, 5, 206, 0, 1])],\n",
              "      dtype=object)"
            ]
          },
          "metadata": {},
          "execution_count": 243
        }
      ]
    },
    {
      "cell_type": "code",
      "source": [
        "n_words = 5\n",
        "\n",
        "X = []\n",
        "y = []\n",
        "\n",
        "for sent in dataset:\n",
        "    for i in range(n_words, len(sent)):\n",
        "        X.append(sent[i-n_words:i])\n",
        "        y.append([sent[i]])"
      ],
      "metadata": {
        "id": "SIkkBoYo2IcP"
      },
      "execution_count": 244,
      "outputs": []
    },
    {
      "cell_type": "code",
      "source": [
        "len(X)"
      ],
      "metadata": {
        "colab": {
          "base_uri": "https://localhost:8080/"
        },
        "id": "FwN34cJe4nPn",
        "outputId": "a38cb8e3-37c0-49b0-e37b-3c4e532276dc"
      },
      "execution_count": 245,
      "outputs": [
        {
          "output_type": "execute_result",
          "data": {
            "text/plain": [
              "228449"
            ]
          },
          "metadata": {},
          "execution_count": 245
        }
      ]
    },
    {
      "cell_type": "code",
      "source": [
        "X[:5]"
      ],
      "metadata": {
        "colab": {
          "base_uri": "https://localhost:8080/"
        },
        "id": "KCpCfOokthOs",
        "outputId": "ce5d4051-8cfb-407c-966a-e5c08fe9a2f8"
      },
      "execution_count": 246,
      "outputs": [
        {
          "output_type": "execute_result",
          "data": {
            "text/plain": [
              "[[2, 26, 66, 2, 19],\n",
              " [26, 66, 2, 19, 5],\n",
              " [66, 2, 19, 5, 572],\n",
              " [2, 19, 5, 572, 0],\n",
              " [19, 5, 572, 0, 2]]"
            ]
          },
          "metadata": {},
          "execution_count": 246
        }
      ]
    },
    {
      "cell_type": "code",
      "source": [
        "y[:5]"
      ],
      "metadata": {
        "colab": {
          "base_uri": "https://localhost:8080/"
        },
        "id": "06z7Aj5ntjWZ",
        "outputId": "934a9e45-6c77-4bf4-bb87-e2f4f85fee0f"
      },
      "execution_count": 247,
      "outputs": [
        {
          "output_type": "execute_result",
          "data": {
            "text/plain": [
              "[[5], [572], [0], [2], [248]]"
            ]
          },
          "metadata": {},
          "execution_count": 247
        }
      ]
    },
    {
      "cell_type": "code",
      "source": [
        "np.array(y).reshape(-1).max()"
      ],
      "metadata": {
        "colab": {
          "base_uri": "https://localhost:8080/"
        },
        "id": "lHD2nJOpvvzO",
        "outputId": "a0761ba5-9c3b-42d5-eb50-69067f615daf"
      },
      "execution_count": 248,
      "outputs": [
        {
          "output_type": "execute_result",
          "data": {
            "text/plain": [
              "11064"
            ]
          },
          "metadata": {},
          "execution_count": 248
        }
      ]
    },
    {
      "cell_type": "code",
      "source": [
        "del dataset\n",
        "del data"
      ],
      "metadata": {
        "id": "z2HeM84b5ftM"
      },
      "execution_count": 249,
      "outputs": []
    },
    {
      "cell_type": "code",
      "source": [
        "len(X)*0.8"
      ],
      "metadata": {
        "colab": {
          "base_uri": "https://localhost:8080/"
        },
        "id": "2iqaprLB1fXH",
        "outputId": "06276780-1747-42d6-e69d-fe6ee98b27ef"
      },
      "execution_count": 250,
      "outputs": [
        {
          "output_type": "execute_result",
          "data": {
            "text/plain": [
              "182759.2"
            ]
          },
          "metadata": {},
          "execution_count": 250
        }
      ]
    },
    {
      "cell_type": "code",
      "source": [
        "train_X = X[:int(len(X)*0.8)]\n",
        "train_y = y[:int(len(X)*0.8)]\n",
        "\n",
        "valid_X = X[int(len(X)*0.8):]\n",
        "valid_y = y[int(len(X)*0.8):]"
      ],
      "metadata": {
        "id": "v0Lk5Pnt1jd9"
      },
      "execution_count": 251,
      "outputs": []
    },
    {
      "cell_type": "code",
      "source": [
        "train = tf.data.Dataset.from_tensor_slices((np.asarray(train_X, dtype=np.float32), np.asarray(train_y, dtype=np.float32)))\n",
        "train = train.shuffle(4096).batch(2048).cache().prefetch(tf.data.AUTOTUNE)\n",
        "\n",
        "valid = tf.data.Dataset.from_tensor_slices((np.asarray(valid_X, dtype=np.float32), np.asarray(valid_y, dtype=np.float32)))\n",
        "valid = valid.batch(2048).prefetch(tf.data.AUTOTUNE)"
      ],
      "metadata": {
        "id": "YhnWk0QXyuPi"
      },
      "execution_count": 268,
      "outputs": []
    },
    {
      "cell_type": "code",
      "source": [
        "model = Sequential([\n",
        "    layers.Embedding(len(indice_to_token), 32, input_length=n_words),\n",
        "    layers.Bidirectional(layers.LSTM(32, return_sequences=True)),\n",
        "    layers.BatchNormalization(),\n",
        "    layers.Dropout(0.4),\n",
        "    layers.Bidirectional(layers.LSTM(32, return_sequences=True)),\n",
        "    layers.BatchNormalization(),\n",
        "    layers.Dropout(0.4),\n",
        "    layers.Bidirectional(layers.LSTM(32, return_sequences=False)),\n",
        "    layers.BatchNormalization(),\n",
        "    layers.Dropout(0.4),\n",
        "    layers.Dense(len(indice_to_token), activation=\"softmax\")\n",
        "])"
      ],
      "metadata": {
        "id": "Pjq71JsX24y8"
      },
      "execution_count": 277,
      "outputs": []
    },
    {
      "cell_type": "code",
      "source": [
        "model.summary()"
      ],
      "metadata": {
        "colab": {
          "base_uri": "https://localhost:8080/"
        },
        "id": "-r1FPQV74SyJ",
        "outputId": "5845d82a-0f11-425e-f456-4123da62ae4e"
      },
      "execution_count": 278,
      "outputs": [
        {
          "output_type": "stream",
          "name": "stdout",
          "text": [
            "Model: \"sequential_11\"\n",
            "_________________________________________________________________\n",
            " Layer (type)                Output Shape              Param #   \n",
            "=================================================================\n",
            " embedding_11 (Embedding)    (None, 5, 32)             354080    \n",
            "                                                                 \n",
            " bidirectional_35 (Bidirect  (None, 5, 64)             16640     \n",
            " ional)                                                          \n",
            "                                                                 \n",
            " batch_normalization_46 (Ba  (None, 5, 64)             256       \n",
            " tchNormalization)                                               \n",
            "                                                                 \n",
            " dropout_46 (Dropout)        (None, 5, 64)             0         \n",
            "                                                                 \n",
            " bidirectional_36 (Bidirect  (None, 5, 64)             24832     \n",
            " ional)                                                          \n",
            "                                                                 \n",
            " batch_normalization_47 (Ba  (None, 5, 64)             256       \n",
            " tchNormalization)                                               \n",
            "                                                                 \n",
            " dropout_47 (Dropout)        (None, 5, 64)             0         \n",
            "                                                                 \n",
            " bidirectional_37 (Bidirect  (None, 64)                24832     \n",
            " ional)                                                          \n",
            "                                                                 \n",
            " batch_normalization_48 (Ba  (None, 64)                256       \n",
            " tchNormalization)                                               \n",
            "                                                                 \n",
            " dropout_48 (Dropout)        (None, 64)                0         \n",
            "                                                                 \n",
            " dense_22 (Dense)            (None, 11065)             719225    \n",
            "                                                                 \n",
            "=================================================================\n",
            "Total params: 1140377 (4.35 MB)\n",
            "Trainable params: 1139993 (4.35 MB)\n",
            "Non-trainable params: 384 (1.50 KB)\n",
            "_________________________________________________________________\n"
          ]
        }
      ]
    },
    {
      "cell_type": "code",
      "source": [
        "model.compile(\n",
        "    optimizer=\"adam\",\n",
        "    loss=\"sparse_categorical_crossentropy\"\n",
        ")"
      ],
      "metadata": {
        "id": "fdMS-6Nv5sD8"
      },
      "execution_count": 279,
      "outputs": []
    },
    {
      "cell_type": "code",
      "source": [
        "try:\n",
        "    history = model.fit(\n",
        "        train,\n",
        "        epochs=200,\n",
        "        verbose=1,\n",
        "        validation_data=valid,\n",
        "        callbacks=[\n",
        "            tf.keras.callbacks.EarlyStopping(monitor=\"val_loss\", patience=30, restore_best_weights=True, verbose=1),\n",
        "            tf.keras.callbacks.ReduceLROnPlateau(monitor=\"val_loss\", factor=0.5, patience=10, verbose=1)\n",
        "        ]\n",
        "    ).history\n",
        "except Exception as e:\n",
        "    print(e)\n",
        "    print(\"Error!\")\n",
        "finally:\n",
        "    from google.colab import output\n",
        "    import time\n",
        "\n",
        "    model.save(\"saved_model.keras\")\n",
        "\n",
        "    output.eval_js('new Audio(\"https://upload.wikimedia.org/wikipedia/commons/0/05/Beep-09.ogg\").play()')\n",
        "    time.sleep(3)\n",
        "    output.eval_js('new Audio(\"https://upload.wikimedia.org/wikipedia/commons/0/05/Beep-09.ogg\").play()')\n",
        "    time.sleep(5)\n",
        "    output.eval_js('new Audio(\"https://upload.wikimedia.org/wikipedia/commons/0/05/Beep-09.ogg\").play()')"
      ],
      "metadata": {
        "colab": {
          "base_uri": "https://localhost:8080/",
          "height": 1000
        },
        "id": "O6uo_bXX54NP",
        "outputId": "e23ff82e-d22d-4cff-8f79-fec65a9c516b"
      },
      "execution_count": 280,
      "outputs": [
        {
          "output_type": "stream",
          "name": "stdout",
          "text": [
            "Epoch 1/200\n",
            "90/90 [==============================] - 22s 124ms/step - loss: 8.7796 - val_loss: 8.8396 - lr: 0.0010\n",
            "Epoch 2/200\n",
            "90/90 [==============================] - 2s 23ms/step - loss: 6.9926 - val_loss: 7.3055 - lr: 0.0010\n",
            "Epoch 3/200\n",
            "90/90 [==============================] - 2s 23ms/step - loss: 5.9567 - val_loss: 6.2524 - lr: 0.0010\n",
            "Epoch 4/200\n",
            "90/90 [==============================] - 2s 23ms/step - loss: 5.5621 - val_loss: 5.6300 - lr: 0.0010\n",
            "Epoch 5/200\n",
            "90/90 [==============================] - 2s 23ms/step - loss: 5.3807 - val_loss: 5.2569 - lr: 0.0010\n",
            "Epoch 6/200\n",
            "90/90 [==============================] - 2s 27ms/step - loss: 5.2622 - val_loss: 5.1116 - lr: 0.0010\n",
            "Epoch 7/200\n",
            "90/90 [==============================] - 2s 27ms/step - loss: 5.1784 - val_loss: 5.0805 - lr: 0.0010\n",
            "Epoch 8/200\n",
            "90/90 [==============================] - 2s 24ms/step - loss: 5.1044 - val_loss: 5.0936 - lr: 0.0010\n",
            "Epoch 9/200\n",
            "90/90 [==============================] - 2s 23ms/step - loss: 5.0432 - val_loss: 5.1136 - lr: 0.0010\n",
            "Epoch 10/200\n",
            "90/90 [==============================] - 2s 23ms/step - loss: 4.9860 - val_loss: 5.1003 - lr: 0.0010\n",
            "Epoch 11/200\n",
            "90/90 [==============================] - 2s 23ms/step - loss: 4.9285 - val_loss: 5.1094 - lr: 0.0010\n",
            "Epoch 12/200\n",
            "90/90 [==============================] - 3s 28ms/step - loss: 4.8811 - val_loss: 5.1074 - lr: 0.0010\n",
            "Epoch 13/200\n",
            "90/90 [==============================] - 2s 26ms/step - loss: 4.8354 - val_loss: 5.1318 - lr: 0.0010\n",
            "Epoch 14/200\n",
            "90/90 [==============================] - 2s 23ms/step - loss: 4.7949 - val_loss: 5.1149 - lr: 0.0010\n",
            "Epoch 15/200\n",
            "90/90 [==============================] - 2s 23ms/step - loss: 4.7586 - val_loss: 5.1185 - lr: 0.0010\n",
            "Epoch 16/200\n",
            "90/90 [==============================] - 2s 23ms/step - loss: 4.7169 - val_loss: 5.1259 - lr: 0.0010\n",
            "Epoch 17/200\n",
            "90/90 [==============================] - ETA: 0s - loss: 4.6830\n",
            "Epoch 17: ReduceLROnPlateau reducing learning rate to 0.0005000000237487257.\n",
            "90/90 [==============================] - 2s 25ms/step - loss: 4.6830 - val_loss: 5.1765 - lr: 0.0010\n",
            "Epoch 18/200\n",
            "90/90 [==============================] - 2s 27ms/step - loss: 4.6180 - val_loss: 5.1670 - lr: 5.0000e-04\n",
            "Epoch 19/200\n",
            "90/90 [==============================] - 2s 23ms/step - loss: 4.5898 - val_loss: 5.1904 - lr: 5.0000e-04\n",
            "Epoch 20/200\n",
            "90/90 [==============================] - 2s 23ms/step - loss: 4.5695 - val_loss: 5.1782 - lr: 5.0000e-04\n",
            "Epoch 21/200\n",
            "90/90 [==============================] - 2s 23ms/step - loss: 4.5527 - val_loss: 5.1825 - lr: 5.0000e-04\n",
            "Epoch 22/200\n",
            "90/90 [==============================] - 2s 25ms/step - loss: 4.5329 - val_loss: 5.2446 - lr: 5.0000e-04\n",
            "Epoch 23/200\n",
            "90/90 [==============================] - 2s 24ms/step - loss: 4.5162 - val_loss: 5.2195 - lr: 5.0000e-04\n",
            "Epoch 24/200\n",
            "90/90 [==============================] - 3s 28ms/step - loss: 4.5007 - val_loss: 5.1995 - lr: 5.0000e-04\n",
            "Epoch 25/200\n",
            "90/90 [==============================] - 2s 24ms/step - loss: 4.4860 - val_loss: 5.1986 - lr: 5.0000e-04\n",
            "Epoch 26/200\n",
            "90/90 [==============================] - 2s 23ms/step - loss: 4.4678 - val_loss: 5.2245 - lr: 5.0000e-04\n",
            "Epoch 27/200\n",
            "90/90 [==============================] - ETA: 0s - loss: 4.4516\n",
            "Epoch 27: ReduceLROnPlateau reducing learning rate to 0.0002500000118743628.\n",
            "90/90 [==============================] - 2s 23ms/step - loss: 4.4516 - val_loss: 5.2404 - lr: 5.0000e-04\n",
            "Epoch 28/200\n",
            "90/90 [==============================] - 2s 23ms/step - loss: 4.4229 - val_loss: 5.2609 - lr: 2.5000e-04\n",
            "Epoch 29/200\n",
            "90/90 [==============================] - 2s 23ms/step - loss: 4.4123 - val_loss: 5.2818 - lr: 2.5000e-04\n",
            "Epoch 30/200\n",
            "90/90 [==============================] - 3s 28ms/step - loss: 4.4046 - val_loss: 5.2985 - lr: 2.5000e-04\n",
            "Epoch 31/200\n",
            "90/90 [==============================] - 2s 27ms/step - loss: 4.3958 - val_loss: 5.3009 - lr: 2.5000e-04\n",
            "Epoch 32/200\n",
            "90/90 [==============================] - 2s 27ms/step - loss: 4.3851 - val_loss: 5.3112 - lr: 2.5000e-04\n",
            "Epoch 33/200\n",
            "90/90 [==============================] - 2s 23ms/step - loss: 4.3737 - val_loss: 5.2828 - lr: 2.5000e-04\n",
            "Epoch 34/200\n",
            "90/90 [==============================] - 2s 23ms/step - loss: 4.3663 - val_loss: 5.3251 - lr: 2.5000e-04\n",
            "Epoch 35/200\n",
            "90/90 [==============================] - 2s 23ms/step - loss: 4.3605 - val_loss: 5.3070 - lr: 2.5000e-04\n",
            "Epoch 36/200\n",
            "90/90 [==============================] - 2s 27ms/step - loss: 4.3516 - val_loss: 5.3452 - lr: 2.5000e-04\n",
            "Epoch 37/200\n",
            "89/90 [============================>.] - ETA: 0s - loss: 4.3472Restoring model weights from the end of the best epoch: 7.\n",
            "\n",
            "Epoch 37: ReduceLROnPlateau reducing learning rate to 0.0001250000059371814.\n",
            "90/90 [==============================] - 2s 28ms/step - loss: 4.3446 - val_loss: 5.2883 - lr: 2.5000e-04\n",
            "Epoch 37: early stopping\n"
          ]
        }
      ]
    },
    {
      "cell_type": "code",
      "source": [
        "model.save(\"saved_model.keras\")"
      ],
      "metadata": {
        "id": "N80a9IdgxMhA"
      },
      "execution_count": 281,
      "outputs": []
    },
    {
      "cell_type": "code",
      "source": [
        "X[0]"
      ],
      "metadata": {
        "colab": {
          "base_uri": "https://localhost:8080/"
        },
        "id": "Bm6okzhzxQ2f",
        "outputId": "4147690b-3cfb-44e1-a6b2-6471f7b22edb"
      },
      "execution_count": 282,
      "outputs": [
        {
          "output_type": "execute_result",
          "data": {
            "text/plain": [
              "[2, 26, 66, 2, 19]"
            ]
          },
          "metadata": {},
          "execution_count": 282
        }
      ]
    },
    {
      "cell_type": "code",
      "source": [
        "y[0]"
      ],
      "metadata": {
        "colab": {
          "base_uri": "https://localhost:8080/"
        },
        "id": "77o13HTVxZeL",
        "outputId": "29f4a521-7cef-4d84-cbaa-87c6fd69c459"
      },
      "execution_count": 283,
      "outputs": [
        {
          "output_type": "execute_result",
          "data": {
            "text/plain": [
              "[5]"
            ]
          },
          "metadata": {},
          "execution_count": 283
        }
      ]
    },
    {
      "cell_type": "code",
      "source": [
        "model.predict([[25, 9, 6, 159, 11]]).argsort()[0][-2:]"
      ],
      "metadata": {
        "colab": {
          "base_uri": "https://localhost:8080/"
        },
        "id": "k87oyqKSxP3z",
        "outputId": "1afc8082-6d77-4d6e-8591-83773c63a805"
      },
      "execution_count": 284,
      "outputs": [
        {
          "output_type": "stream",
          "name": "stdout",
          "text": [
            "1/1 [==============================] - 3s 3s/step\n"
          ]
        },
        {
          "output_type": "execute_result",
          "data": {
            "text/plain": [
              "array([5, 3])"
            ]
          },
          "metadata": {},
          "execution_count": 284
        }
      ]
    },
    {
      "cell_type": "code",
      "source": [
        "def sentence_to_token_indices(sentence, n_words=10):\n",
        "    sentence = str.lower(sentence)\n",
        "    sent_token_list = reg_tokenizer.tokenize(sentence)[-n_words:]\n",
        "    sent_index_list = []\n",
        "    for token in sent_token_list:\n",
        "        indice = token_to_indice[tuple(token)]\n",
        "        sent_index_list.append(indice)\n",
        "    return sent_index_list\n",
        "\n",
        "\n",
        "def get_full_sentence(sentence, iterations=10):\n",
        "    sentence = str.lower(sentence)\n",
        "\n",
        "    for _ in range(iterations):\n",
        "        sent_index = sentence_to_token_indices(sentence)\n",
        "        word = indice_to_token[\n",
        "            np.random.choice(\n",
        "                model.predict(\n",
        "                    [sent_index],\n",
        "                    verbose=0\n",
        "                )\n",
        "                .argsort()[0][-2:]\n",
        "            )\n",
        "        ]\n",
        "        sentence = sentence + \" \" + word\n",
        "\n",
        "    return sentence\n",
        "\n",
        "sentence = \"Hello world is known for\"\n",
        "print(get_full_sentence(sentence, 20))"
      ],
      "metadata": {
        "colab": {
          "base_uri": "https://localhost:8080/"
        },
        "id": "l28UGY1J8zBw",
        "outputId": "f7e5ecb5-2278-4732-d9e4-e60b617f6b60"
      },
      "execution_count": 292,
      "outputs": [
        {
          "output_type": "stream",
          "name": "stdout",
          "text": [
            "hello world is known for a lot . i guess i wonder if it s that it was the same time , it s not\n"
          ]
        }
      ]
    },
    {
      "cell_type": "code",
      "source": [],
      "metadata": {
        "id": "yZh8SYLIHbHX"
      },
      "execution_count": null,
      "outputs": []
    }
  ]
}