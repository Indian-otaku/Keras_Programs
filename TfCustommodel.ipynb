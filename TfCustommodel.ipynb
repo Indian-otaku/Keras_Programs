{
 "cells": [
  {
   "cell_type": "code",
   "execution_count": 1,
   "metadata": {},
   "outputs": [
    {
     "name": "stderr",
     "output_type": "stream",
     "text": [
      "c:\\Users\\zuraj\\miniconda3\\envs\\tensorenv\\lib\\site-packages\\h5py\\__init__.py:36: UserWarning: h5py is running against HDF5 1.12.2 when it was built against 1.12.1, this may cause problems\n",
      "  _warn((\"h5py is running against HDF5 {0} when it was built against {1}, \"\n"
     ]
    }
   ],
   "source": [
    "import tensorflow as tf\n",
    "from tensorflow.keras.layers import Layer\n",
    "from tensorflow.keras import layers\n",
    "from tensorflow import keras\n",
    "from tensorflow.keras.models import Model\n",
    "\n",
    "\n",
    "import pandas as pd\n",
    "import numpy as np"
   ]
  },
  {
   "cell_type": "markdown",
   "metadata": {},
   "source": [
    "### Getting the data\n"
   ]
  },
  {
   "cell_type": "code",
   "execution_count": 2,
   "metadata": {},
   "outputs": [],
   "source": [
    "data_path = r\"C:\\Users\\zuraj\\OneDrive\\Desktop\\work\\RandomProjects\\datasets\\Sonar mine vs rock dataset.csv\""
   ]
  },
  {
   "cell_type": "code",
   "execution_count": 3,
   "metadata": {},
   "outputs": [
    {
     "data": {
      "text/html": [
       "<div>\n",
       "<style scoped>\n",
       "    .dataframe tbody tr th:only-of-type {\n",
       "        vertical-align: middle;\n",
       "    }\n",
       "\n",
       "    .dataframe tbody tr th {\n",
       "        vertical-align: top;\n",
       "    }\n",
       "\n",
       "    .dataframe thead th {\n",
       "        text-align: right;\n",
       "    }\n",
       "</style>\n",
       "<table border=\"1\" class=\"dataframe\">\n",
       "  <thead>\n",
       "    <tr style=\"text-align: right;\">\n",
       "      <th></th>\n",
       "      <th>0</th>\n",
       "      <th>1</th>\n",
       "      <th>2</th>\n",
       "      <th>3</th>\n",
       "      <th>4</th>\n",
       "      <th>5</th>\n",
       "      <th>6</th>\n",
       "      <th>7</th>\n",
       "      <th>8</th>\n",
       "      <th>9</th>\n",
       "      <th>...</th>\n",
       "      <th>51</th>\n",
       "      <th>52</th>\n",
       "      <th>53</th>\n",
       "      <th>54</th>\n",
       "      <th>55</th>\n",
       "      <th>56</th>\n",
       "      <th>57</th>\n",
       "      <th>58</th>\n",
       "      <th>59</th>\n",
       "      <th>60</th>\n",
       "    </tr>\n",
       "  </thead>\n",
       "  <tbody>\n",
       "    <tr>\n",
       "      <th>0</th>\n",
       "      <td>0.0200</td>\n",
       "      <td>0.0371</td>\n",
       "      <td>0.0428</td>\n",
       "      <td>0.0207</td>\n",
       "      <td>0.0954</td>\n",
       "      <td>0.0986</td>\n",
       "      <td>0.1539</td>\n",
       "      <td>0.1601</td>\n",
       "      <td>0.3109</td>\n",
       "      <td>0.2111</td>\n",
       "      <td>...</td>\n",
       "      <td>0.0027</td>\n",
       "      <td>0.0065</td>\n",
       "      <td>0.0159</td>\n",
       "      <td>0.0072</td>\n",
       "      <td>0.0167</td>\n",
       "      <td>0.0180</td>\n",
       "      <td>0.0084</td>\n",
       "      <td>0.0090</td>\n",
       "      <td>0.0032</td>\n",
       "      <td>R</td>\n",
       "    </tr>\n",
       "    <tr>\n",
       "      <th>1</th>\n",
       "      <td>0.0453</td>\n",
       "      <td>0.0523</td>\n",
       "      <td>0.0843</td>\n",
       "      <td>0.0689</td>\n",
       "      <td>0.1183</td>\n",
       "      <td>0.2583</td>\n",
       "      <td>0.2156</td>\n",
       "      <td>0.3481</td>\n",
       "      <td>0.3337</td>\n",
       "      <td>0.2872</td>\n",
       "      <td>...</td>\n",
       "      <td>0.0084</td>\n",
       "      <td>0.0089</td>\n",
       "      <td>0.0048</td>\n",
       "      <td>0.0094</td>\n",
       "      <td>0.0191</td>\n",
       "      <td>0.0140</td>\n",
       "      <td>0.0049</td>\n",
       "      <td>0.0052</td>\n",
       "      <td>0.0044</td>\n",
       "      <td>R</td>\n",
       "    </tr>\n",
       "    <tr>\n",
       "      <th>2</th>\n",
       "      <td>0.0262</td>\n",
       "      <td>0.0582</td>\n",
       "      <td>0.1099</td>\n",
       "      <td>0.1083</td>\n",
       "      <td>0.0974</td>\n",
       "      <td>0.2280</td>\n",
       "      <td>0.2431</td>\n",
       "      <td>0.3771</td>\n",
       "      <td>0.5598</td>\n",
       "      <td>0.6194</td>\n",
       "      <td>...</td>\n",
       "      <td>0.0232</td>\n",
       "      <td>0.0166</td>\n",
       "      <td>0.0095</td>\n",
       "      <td>0.0180</td>\n",
       "      <td>0.0244</td>\n",
       "      <td>0.0316</td>\n",
       "      <td>0.0164</td>\n",
       "      <td>0.0095</td>\n",
       "      <td>0.0078</td>\n",
       "      <td>R</td>\n",
       "    </tr>\n",
       "    <tr>\n",
       "      <th>3</th>\n",
       "      <td>0.0100</td>\n",
       "      <td>0.0171</td>\n",
       "      <td>0.0623</td>\n",
       "      <td>0.0205</td>\n",
       "      <td>0.0205</td>\n",
       "      <td>0.0368</td>\n",
       "      <td>0.1098</td>\n",
       "      <td>0.1276</td>\n",
       "      <td>0.0598</td>\n",
       "      <td>0.1264</td>\n",
       "      <td>...</td>\n",
       "      <td>0.0121</td>\n",
       "      <td>0.0036</td>\n",
       "      <td>0.0150</td>\n",
       "      <td>0.0085</td>\n",
       "      <td>0.0073</td>\n",
       "      <td>0.0050</td>\n",
       "      <td>0.0044</td>\n",
       "      <td>0.0040</td>\n",
       "      <td>0.0117</td>\n",
       "      <td>R</td>\n",
       "    </tr>\n",
       "    <tr>\n",
       "      <th>4</th>\n",
       "      <td>0.0762</td>\n",
       "      <td>0.0666</td>\n",
       "      <td>0.0481</td>\n",
       "      <td>0.0394</td>\n",
       "      <td>0.0590</td>\n",
       "      <td>0.0649</td>\n",
       "      <td>0.1209</td>\n",
       "      <td>0.2467</td>\n",
       "      <td>0.3564</td>\n",
       "      <td>0.4459</td>\n",
       "      <td>...</td>\n",
       "      <td>0.0031</td>\n",
       "      <td>0.0054</td>\n",
       "      <td>0.0105</td>\n",
       "      <td>0.0110</td>\n",
       "      <td>0.0015</td>\n",
       "      <td>0.0072</td>\n",
       "      <td>0.0048</td>\n",
       "      <td>0.0107</td>\n",
       "      <td>0.0094</td>\n",
       "      <td>R</td>\n",
       "    </tr>\n",
       "  </tbody>\n",
       "</table>\n",
       "<p>5 rows × 61 columns</p>\n",
       "</div>"
      ],
      "text/plain": [
       "       0       1       2       3       4       5       6       7       8   \\\n",
       "0  0.0200  0.0371  0.0428  0.0207  0.0954  0.0986  0.1539  0.1601  0.3109   \n",
       "1  0.0453  0.0523  0.0843  0.0689  0.1183  0.2583  0.2156  0.3481  0.3337   \n",
       "2  0.0262  0.0582  0.1099  0.1083  0.0974  0.2280  0.2431  0.3771  0.5598   \n",
       "3  0.0100  0.0171  0.0623  0.0205  0.0205  0.0368  0.1098  0.1276  0.0598   \n",
       "4  0.0762  0.0666  0.0481  0.0394  0.0590  0.0649  0.1209  0.2467  0.3564   \n",
       "\n",
       "       9   ...      51      52      53      54      55      56      57  \\\n",
       "0  0.2111  ...  0.0027  0.0065  0.0159  0.0072  0.0167  0.0180  0.0084   \n",
       "1  0.2872  ...  0.0084  0.0089  0.0048  0.0094  0.0191  0.0140  0.0049   \n",
       "2  0.6194  ...  0.0232  0.0166  0.0095  0.0180  0.0244  0.0316  0.0164   \n",
       "3  0.1264  ...  0.0121  0.0036  0.0150  0.0085  0.0073  0.0050  0.0044   \n",
       "4  0.4459  ...  0.0031  0.0054  0.0105  0.0110  0.0015  0.0072  0.0048   \n",
       "\n",
       "       58      59  60  \n",
       "0  0.0090  0.0032   R  \n",
       "1  0.0052  0.0044   R  \n",
       "2  0.0095  0.0078   R  \n",
       "3  0.0040  0.0117   R  \n",
       "4  0.0107  0.0094   R  \n",
       "\n",
       "[5 rows x 61 columns]"
      ]
     },
     "execution_count": 3,
     "metadata": {},
     "output_type": "execute_result"
    }
   ],
   "source": [
    "data = pd.read_csv(data_path, header=None)\n",
    "data.head()"
   ]
  },
  {
   "cell_type": "code",
   "execution_count": 4,
   "metadata": {},
   "outputs": [],
   "source": [
    "data = data.sample(n=data.shape[0]).reset_index(drop=True)"
   ]
  },
  {
   "cell_type": "code",
   "execution_count": 5,
   "metadata": {},
   "outputs": [
    {
     "data": {
      "text/html": [
       "<div>\n",
       "<style scoped>\n",
       "    .dataframe tbody tr th:only-of-type {\n",
       "        vertical-align: middle;\n",
       "    }\n",
       "\n",
       "    .dataframe tbody tr th {\n",
       "        vertical-align: top;\n",
       "    }\n",
       "\n",
       "    .dataframe thead th {\n",
       "        text-align: right;\n",
       "    }\n",
       "</style>\n",
       "<table border=\"1\" class=\"dataframe\">\n",
       "  <thead>\n",
       "    <tr style=\"text-align: right;\">\n",
       "      <th></th>\n",
       "      <th>0</th>\n",
       "      <th>1</th>\n",
       "      <th>2</th>\n",
       "      <th>3</th>\n",
       "      <th>4</th>\n",
       "      <th>5</th>\n",
       "      <th>6</th>\n",
       "      <th>7</th>\n",
       "      <th>8</th>\n",
       "      <th>9</th>\n",
       "      <th>...</th>\n",
       "      <th>50</th>\n",
       "      <th>51</th>\n",
       "      <th>52</th>\n",
       "      <th>53</th>\n",
       "      <th>54</th>\n",
       "      <th>55</th>\n",
       "      <th>56</th>\n",
       "      <th>57</th>\n",
       "      <th>58</th>\n",
       "      <th>59</th>\n",
       "    </tr>\n",
       "  </thead>\n",
       "  <tbody>\n",
       "    <tr>\n",
       "      <th>0</th>\n",
       "      <td>0.0303</td>\n",
       "      <td>0.0353</td>\n",
       "      <td>0.0490</td>\n",
       "      <td>0.0608</td>\n",
       "      <td>0.0167</td>\n",
       "      <td>0.1354</td>\n",
       "      <td>0.1465</td>\n",
       "      <td>0.1123</td>\n",
       "      <td>0.1945</td>\n",
       "      <td>0.2354</td>\n",
       "      <td>...</td>\n",
       "      <td>0.0042</td>\n",
       "      <td>0.0086</td>\n",
       "      <td>0.0046</td>\n",
       "      <td>0.0126</td>\n",
       "      <td>0.0036</td>\n",
       "      <td>0.0035</td>\n",
       "      <td>0.0034</td>\n",
       "      <td>0.0079</td>\n",
       "      <td>0.0036</td>\n",
       "      <td>0.0048</td>\n",
       "    </tr>\n",
       "    <tr>\n",
       "      <th>1</th>\n",
       "      <td>0.0353</td>\n",
       "      <td>0.0713</td>\n",
       "      <td>0.0326</td>\n",
       "      <td>0.0272</td>\n",
       "      <td>0.0370</td>\n",
       "      <td>0.0792</td>\n",
       "      <td>0.1083</td>\n",
       "      <td>0.0687</td>\n",
       "      <td>0.0298</td>\n",
       "      <td>0.0880</td>\n",
       "      <td>...</td>\n",
       "      <td>0.0098</td>\n",
       "      <td>0.0163</td>\n",
       "      <td>0.0242</td>\n",
       "      <td>0.0043</td>\n",
       "      <td>0.0202</td>\n",
       "      <td>0.0108</td>\n",
       "      <td>0.0037</td>\n",
       "      <td>0.0096</td>\n",
       "      <td>0.0093</td>\n",
       "      <td>0.0053</td>\n",
       "    </tr>\n",
       "    <tr>\n",
       "      <th>2</th>\n",
       "      <td>0.0201</td>\n",
       "      <td>0.0026</td>\n",
       "      <td>0.0138</td>\n",
       "      <td>0.0062</td>\n",
       "      <td>0.0133</td>\n",
       "      <td>0.0151</td>\n",
       "      <td>0.0541</td>\n",
       "      <td>0.0210</td>\n",
       "      <td>0.0505</td>\n",
       "      <td>0.1097</td>\n",
       "      <td>...</td>\n",
       "      <td>0.0072</td>\n",
       "      <td>0.0108</td>\n",
       "      <td>0.0070</td>\n",
       "      <td>0.0063</td>\n",
       "      <td>0.0030</td>\n",
       "      <td>0.0011</td>\n",
       "      <td>0.0007</td>\n",
       "      <td>0.0024</td>\n",
       "      <td>0.0057</td>\n",
       "      <td>0.0044</td>\n",
       "    </tr>\n",
       "    <tr>\n",
       "      <th>3</th>\n",
       "      <td>0.0311</td>\n",
       "      <td>0.0491</td>\n",
       "      <td>0.0692</td>\n",
       "      <td>0.0831</td>\n",
       "      <td>0.0079</td>\n",
       "      <td>0.0200</td>\n",
       "      <td>0.0981</td>\n",
       "      <td>0.1016</td>\n",
       "      <td>0.2025</td>\n",
       "      <td>0.0767</td>\n",
       "      <td>...</td>\n",
       "      <td>0.0089</td>\n",
       "      <td>0.0087</td>\n",
       "      <td>0.0032</td>\n",
       "      <td>0.0130</td>\n",
       "      <td>0.0188</td>\n",
       "      <td>0.0101</td>\n",
       "      <td>0.0229</td>\n",
       "      <td>0.0182</td>\n",
       "      <td>0.0046</td>\n",
       "      <td>0.0038</td>\n",
       "    </tr>\n",
       "    <tr>\n",
       "      <th>4</th>\n",
       "      <td>0.0664</td>\n",
       "      <td>0.0575</td>\n",
       "      <td>0.0842</td>\n",
       "      <td>0.0372</td>\n",
       "      <td>0.0458</td>\n",
       "      <td>0.0771</td>\n",
       "      <td>0.0771</td>\n",
       "      <td>0.1130</td>\n",
       "      <td>0.2353</td>\n",
       "      <td>0.1838</td>\n",
       "      <td>...</td>\n",
       "      <td>0.0135</td>\n",
       "      <td>0.0141</td>\n",
       "      <td>0.0190</td>\n",
       "      <td>0.0043</td>\n",
       "      <td>0.0036</td>\n",
       "      <td>0.0026</td>\n",
       "      <td>0.0024</td>\n",
       "      <td>0.0162</td>\n",
       "      <td>0.0109</td>\n",
       "      <td>0.0079</td>\n",
       "    </tr>\n",
       "  </tbody>\n",
       "</table>\n",
       "<p>5 rows × 60 columns</p>\n",
       "</div>"
      ],
      "text/plain": [
       "       0       1       2       3       4       5       6       7       8   \\\n",
       "0  0.0303  0.0353  0.0490  0.0608  0.0167  0.1354  0.1465  0.1123  0.1945   \n",
       "1  0.0353  0.0713  0.0326  0.0272  0.0370  0.0792  0.1083  0.0687  0.0298   \n",
       "2  0.0201  0.0026  0.0138  0.0062  0.0133  0.0151  0.0541  0.0210  0.0505   \n",
       "3  0.0311  0.0491  0.0692  0.0831  0.0079  0.0200  0.0981  0.1016  0.2025   \n",
       "4  0.0664  0.0575  0.0842  0.0372  0.0458  0.0771  0.0771  0.1130  0.2353   \n",
       "\n",
       "       9   ...      50      51      52      53      54      55      56  \\\n",
       "0  0.2354  ...  0.0042  0.0086  0.0046  0.0126  0.0036  0.0035  0.0034   \n",
       "1  0.0880  ...  0.0098  0.0163  0.0242  0.0043  0.0202  0.0108  0.0037   \n",
       "2  0.1097  ...  0.0072  0.0108  0.0070  0.0063  0.0030  0.0011  0.0007   \n",
       "3  0.0767  ...  0.0089  0.0087  0.0032  0.0130  0.0188  0.0101  0.0229   \n",
       "4  0.1838  ...  0.0135  0.0141  0.0190  0.0043  0.0036  0.0026  0.0024   \n",
       "\n",
       "       57      58      59  \n",
       "0  0.0079  0.0036  0.0048  \n",
       "1  0.0096  0.0093  0.0053  \n",
       "2  0.0024  0.0057  0.0044  \n",
       "3  0.0182  0.0046  0.0038  \n",
       "4  0.0162  0.0109  0.0079  \n",
       "\n",
       "[5 rows x 60 columns]"
      ]
     },
     "execution_count": 5,
     "metadata": {},
     "output_type": "execute_result"
    }
   ],
   "source": [
    "X, y = data.iloc[:, :-1], data.iloc[:, -1]\n",
    "X.head()"
   ]
  },
  {
   "cell_type": "code",
   "execution_count": 6,
   "metadata": {},
   "outputs": [
    {
     "data": {
      "text/plain": [
       "0    1\n",
       "1    0\n",
       "2    0\n",
       "3    0\n",
       "4    0\n",
       "Name: 60, dtype: int64"
      ]
     },
     "execution_count": 6,
     "metadata": {},
     "output_type": "execute_result"
    }
   ],
   "source": [
    "y = y.map(lambda x: 0 if x == \"R\" else 1)\n",
    "y.head()"
   ]
  },
  {
   "cell_type": "code",
   "execution_count": 7,
   "metadata": {},
   "outputs": [],
   "source": [
    "X = X.to_numpy()\n",
    "y = y.to_numpy().reshape(-1, 1)"
   ]
  },
  {
   "cell_type": "code",
   "execution_count": 8,
   "metadata": {},
   "outputs": [
    {
     "data": {
      "text/plain": [
       "((208, 60), (208, 1))"
      ]
     },
     "execution_count": 8,
     "metadata": {},
     "output_type": "execute_result"
    }
   ],
   "source": [
    "X.shape, y.shape"
   ]
  },
  {
   "cell_type": "markdown",
   "metadata": {},
   "source": [
    "### Sequential model\n"
   ]
  },
  {
   "cell_type": "code",
   "execution_count": 9,
   "metadata": {},
   "outputs": [
    {
     "name": "stdout",
     "output_type": "stream",
     "text": [
      "Model: \"sequential\"\n",
      "_________________________________________________________________\n",
      " Layer (type)                Output Shape              Param #   \n",
      "=================================================================\n",
      " dense (Dense)               (1, 100)                  6100      \n",
      "                                                                 \n",
      " dense_1 (Dense)             (1, 10)                   1010      \n",
      "                                                                 \n",
      " dense_2 (Dense)             (1, 1)                    11        \n",
      "                                                                 \n",
      "=================================================================\n",
      "Total params: 7,121\n",
      "Trainable params: 7,121\n",
      "Non-trainable params: 0\n",
      "_________________________________________________________________\n"
     ]
    }
   ],
   "source": [
    "seq_model = keras.models.Sequential(\n",
    "    [\n",
    "        layers.Dense(100, activation=\"relu\"),\n",
    "        layers.Dense(10, activation=\"relu\"),\n",
    "        layers.Dense(1, activation=\"sigmoid\"),\n",
    "    ]\n",
    ")\n",
    "\n",
    "seq_model(np.zeros((1, 60)))\n",
    "seq_model.summary()"
   ]
  },
  {
   "cell_type": "code",
   "execution_count": 10,
   "metadata": {},
   "outputs": [
    {
     "data": {
      "text/plain": [
       "(208, 1)"
      ]
     },
     "execution_count": 10,
     "metadata": {},
     "output_type": "execute_result"
    }
   ],
   "source": [
    "seq_model(X).numpy().shape"
   ]
  },
  {
   "cell_type": "code",
   "execution_count": 11,
   "metadata": {},
   "outputs": [],
   "source": [
    "seq_model.compile(\n",
    "    optimizer=keras.optimizers.Adam(),\n",
    "\n",
    "    loss=keras.losses.BinaryCrossentropy(),\n",
    "\n",
    "    metrics=keras.metrics.BinaryAccuracy(),\n",
    ")"
   ]
  },
  {
   "cell_type": "code",
   "execution_count": 12,
   "metadata": {},
   "outputs": [
    {
     "name": "stdout",
     "output_type": "stream",
     "text": [
      "Epoch 1/10\n",
      "6/6 [==============================] - 1s 61ms/step - loss: 0.6823 - binary_accuracy: 0.5181 - val_loss: 0.6818 - val_binary_accuracy: 0.5238\n",
      "Epoch 2/10\n",
      "6/6 [==============================] - 0s 15ms/step - loss: 0.6613 - binary_accuracy: 0.5602 - val_loss: 0.6707 - val_binary_accuracy: 0.5714\n",
      "Epoch 3/10\n",
      "6/6 [==============================] - 0s 15ms/step - loss: 0.6481 - binary_accuracy: 0.6386 - val_loss: 0.6623 - val_binary_accuracy: 0.6190\n",
      "Epoch 4/10\n",
      "6/6 [==============================] - 0s 16ms/step - loss: 0.6367 - binary_accuracy: 0.6386 - val_loss: 0.6565 - val_binary_accuracy: 0.6190\n",
      "Epoch 5/10\n",
      "6/6 [==============================] - 0s 15ms/step - loss: 0.6254 - binary_accuracy: 0.6747 - val_loss: 0.6500 - val_binary_accuracy: 0.6667\n",
      "Epoch 6/10\n",
      "6/6 [==============================] - 0s 13ms/step - loss: 0.6140 - binary_accuracy: 0.6747 - val_loss: 0.6430 - val_binary_accuracy: 0.6667\n",
      "Epoch 7/10\n",
      "6/6 [==============================] - 0s 13ms/step - loss: 0.6030 - binary_accuracy: 0.6928 - val_loss: 0.6367 - val_binary_accuracy: 0.6667\n",
      "Epoch 8/10\n",
      "6/6 [==============================] - 0s 13ms/step - loss: 0.5920 - binary_accuracy: 0.6867 - val_loss: 0.6301 - val_binary_accuracy: 0.6429\n",
      "Epoch 9/10\n",
      "6/6 [==============================] - 0s 13ms/step - loss: 0.5810 - binary_accuracy: 0.6988 - val_loss: 0.6237 - val_binary_accuracy: 0.6429\n",
      "Epoch 10/10\n",
      "6/6 [==============================] - 0s 15ms/step - loss: 0.5696 - binary_accuracy: 0.6928 - val_loss: 0.6166 - val_binary_accuracy: 0.6429\n"
     ]
    },
    {
     "data": {
      "text/plain": [
       "<keras.callbacks.History at 0x2067d4e0070>"
      ]
     },
     "execution_count": 12,
     "metadata": {},
     "output_type": "execute_result"
    }
   ],
   "source": [
    "seq_model.fit(X, y, batch_size=32, epochs=10, validation_split=0.2, shuffle=False)"
   ]
  },
  {
   "cell_type": "markdown",
   "metadata": {},
   "source": [
    "### Functional model\n"
   ]
  },
  {
   "cell_type": "code",
   "execution_count": 13,
   "metadata": {},
   "outputs": [],
   "source": [
    "inp = layers.Input((60))\n",
    "x = layers.Dense(100, activation=\"relu\")(inp)\n",
    "x = layers.Dense(10, activation=\"relu\")(x)\n",
    "out = layers.Dense(1, activation=\"sigmoid\")(x)\n",
    "\n",
    "func_model = keras.models.Model(inputs=inp, outputs=out)"
   ]
  },
  {
   "cell_type": "code",
   "execution_count": 14,
   "metadata": {},
   "outputs": [
    {
     "name": "stdout",
     "output_type": "stream",
     "text": [
      "Model: \"model\"\n",
      "_________________________________________________________________\n",
      " Layer (type)                Output Shape              Param #   \n",
      "=================================================================\n",
      " input_1 (InputLayer)        [(None, 60)]              0         \n",
      "                                                                 \n",
      " dense_3 (Dense)             (None, 100)               6100      \n",
      "                                                                 \n",
      " dense_4 (Dense)             (None, 10)                1010      \n",
      "                                                                 \n",
      " dense_5 (Dense)             (None, 1)                 11        \n",
      "                                                                 \n",
      "=================================================================\n",
      "Total params: 7,121\n",
      "Trainable params: 7,121\n",
      "Non-trainable params: 0\n",
      "_________________________________________________________________\n"
     ]
    }
   ],
   "source": [
    "func_model.summary()"
   ]
  },
  {
   "cell_type": "code",
   "execution_count": 15,
   "metadata": {},
   "outputs": [],
   "source": [
    "func_model.compile(\n",
    "    optimizer=keras.optimizers.Adam(),\n",
    "\n",
    "    loss=keras.losses.BinaryCrossentropy(),\n",
    "\n",
    "    metrics=keras.metrics.BinaryAccuracy(),\n",
    ")"
   ]
  },
  {
   "cell_type": "code",
   "execution_count": 16,
   "metadata": {},
   "outputs": [
    {
     "name": "stdout",
     "output_type": "stream",
     "text": [
      "Epoch 1/10\n"
     ]
    },
    {
     "name": "stdout",
     "output_type": "stream",
     "text": [
      "6/6 [==============================] - 1s 49ms/step - loss: 0.6883 - binary_accuracy: 0.5602 - val_loss: 0.6685 - val_binary_accuracy: 0.5476\n",
      "Epoch 2/10\n",
      "6/6 [==============================] - 0s 17ms/step - loss: 0.6645 - binary_accuracy: 0.5482 - val_loss: 0.6558 - val_binary_accuracy: 0.6429\n",
      "Epoch 3/10\n",
      "6/6 [==============================] - 0s 15ms/step - loss: 0.6443 - binary_accuracy: 0.6265 - val_loss: 0.6325 - val_binary_accuracy: 0.7143\n",
      "Epoch 4/10\n",
      "6/6 [==============================] - 0s 20ms/step - loss: 0.6261 - binary_accuracy: 0.6807 - val_loss: 0.6187 - val_binary_accuracy: 0.7619\n",
      "Epoch 5/10\n",
      "6/6 [==============================] - 0s 14ms/step - loss: 0.6101 - binary_accuracy: 0.6687 - val_loss: 0.6090 - val_binary_accuracy: 0.7381\n",
      "Epoch 6/10\n",
      "6/6 [==============================] - 0s 13ms/step - loss: 0.5909 - binary_accuracy: 0.6687 - val_loss: 0.6003 - val_binary_accuracy: 0.7381\n",
      "Epoch 7/10\n",
      "6/6 [==============================] - 0s 13ms/step - loss: 0.5740 - binary_accuracy: 0.6928 - val_loss: 0.5935 - val_binary_accuracy: 0.7381\n",
      "Epoch 8/10\n",
      "6/6 [==============================] - 0s 16ms/step - loss: 0.5584 - binary_accuracy: 0.7169 - val_loss: 0.5865 - val_binary_accuracy: 0.7381\n",
      "Epoch 9/10\n",
      "6/6 [==============================] - 0s 17ms/step - loss: 0.5434 - binary_accuracy: 0.7410 - val_loss: 0.5795 - val_binary_accuracy: 0.7381\n",
      "Epoch 10/10\n",
      "6/6 [==============================] - 0s 15ms/step - loss: 0.5296 - binary_accuracy: 0.7530 - val_loss: 0.5737 - val_binary_accuracy: 0.7381\n"
     ]
    },
    {
     "data": {
      "text/plain": [
       "<keras.callbacks.History at 0x2067f88d970>"
      ]
     },
     "execution_count": 16,
     "metadata": {},
     "output_type": "execute_result"
    }
   ],
   "source": [
    "func_model.fit(X, y, batch_size=32, epochs=10, validation_split=0.2, shuffle=False)"
   ]
  },
  {
   "cell_type": "markdown",
   "metadata": {},
   "source": [
    "### Custom model\n"
   ]
  },
  {
   "cell_type": "code",
   "execution_count": 22,
   "metadata": {},
   "outputs": [],
   "source": [
    "class custom_model(Model):\n",
    "    def __init__(self):\n",
    "        super(custom_model, self).__init__()\n",
    "        self.dense1 = layers.Dense(100, activation=\"relu\")\n",
    "        self.dense2 = layers.Dense(10, activation=\"relu\")\n",
    "        self.dense3 = layers.Dense(1, activation=\"sigmoid\")\n",
    "\n",
    "    def call(self, X, training):\n",
    "        return self.dense3(self.dense2(self.dense1(X)))"
   ]
  },
  {
   "cell_type": "code",
   "execution_count": 25,
   "metadata": {},
   "outputs": [
    {
     "name": "stdout",
     "output_type": "stream",
     "text": [
      "Model: \"custom_model_2\"\n",
      "_________________________________________________________________\n",
      " Layer (type)                Output Shape              Param #   \n",
      "=================================================================\n",
      " dense_12 (Dense)            multiple                  6100      \n",
      "                                                                 \n",
      " dense_13 (Dense)            multiple                  1010      \n",
      "                                                                 \n",
      " dense_14 (Dense)            multiple                  11        \n",
      "                                                                 \n",
      "=================================================================\n",
      "Total params: 7,121\n",
      "Trainable params: 7,121\n",
      "Non-trainable params: 0\n",
      "_________________________________________________________________\n"
     ]
    }
   ],
   "source": [
    "cust_model = custom_model()\n",
    "cust_model(np.zeros((1, 60)))\n",
    "cust_model.summary()"
   ]
  },
  {
   "cell_type": "code",
   "execution_count": 26,
   "metadata": {},
   "outputs": [],
   "source": [
    "cust_model.compile(\n",
    "    optimizer=keras.optimizers.Adam(),\n",
    "    loss=keras.losses.BinaryCrossentropy(),\n",
    "    metrics=keras.metrics.BinaryAccuracy(),\n",
    ")"
   ]
  },
  {
   "cell_type": "code",
   "execution_count": 27,
   "metadata": {},
   "outputs": [
    {
     "name": "stdout",
     "output_type": "stream",
     "text": [
      "Epoch 1/10\n",
      "6/6 [==============================] - 1s 85ms/step - loss: 0.6906 - binary_accuracy: 0.4940 - val_loss: 0.6925 - val_binary_accuracy: 0.5238\n",
      "Epoch 2/10\n",
      "6/6 [==============================] - 0s 26ms/step - loss: 0.6699 - binary_accuracy: 0.5904 - val_loss: 0.6956 - val_binary_accuracy: 0.5238\n",
      "Epoch 3/10\n",
      "6/6 [==============================] - 0s 25ms/step - loss: 0.6562 - binary_accuracy: 0.5783 - val_loss: 0.6909 - val_binary_accuracy: 0.5238\n",
      "Epoch 4/10\n",
      "6/6 [==============================] - 0s 27ms/step - loss: 0.6411 - binary_accuracy: 0.6205 - val_loss: 0.6809 - val_binary_accuracy: 0.5714\n",
      "Epoch 5/10\n",
      "6/6 [==============================] - 0s 25ms/step - loss: 0.6243 - binary_accuracy: 0.6446 - val_loss: 0.6690 - val_binary_accuracy: 0.6190\n",
      "Epoch 6/10\n",
      "6/6 [==============================] - 0s 26ms/step - loss: 0.6067 - binary_accuracy: 0.6687 - val_loss: 0.6607 - val_binary_accuracy: 0.6429\n",
      "Epoch 7/10\n",
      "6/6 [==============================] - 0s 27ms/step - loss: 0.5886 - binary_accuracy: 0.6687 - val_loss: 0.6555 - val_binary_accuracy: 0.6667\n",
      "Epoch 8/10\n",
      "6/6 [==============================] - 0s 26ms/step - loss: 0.5683 - binary_accuracy: 0.6988 - val_loss: 0.6399 - val_binary_accuracy: 0.6190\n",
      "Epoch 9/10\n",
      "6/6 [==============================] - 0s 26ms/step - loss: 0.5512 - binary_accuracy: 0.7470 - val_loss: 0.6296 - val_binary_accuracy: 0.6190\n",
      "Epoch 10/10\n",
      "6/6 [==============================] - 0s 22ms/step - loss: 0.5358 - binary_accuracy: 0.7651 - val_loss: 0.6240 - val_binary_accuracy: 0.6190\n"
     ]
    },
    {
     "data": {
      "text/plain": [
       "<keras.callbacks.History at 0x206029208e0>"
      ]
     },
     "execution_count": 27,
     "metadata": {},
     "output_type": "execute_result"
    }
   ],
   "source": [
    "cust_model.fit(X, y, batch_size=32, epochs=10, validation_split=0.2, shuffle=False)"
   ]
  },
  {
   "cell_type": "markdown",
   "metadata": {},
   "source": [
    "### Custom layer\n"
   ]
  },
  {
   "cell_type": "code",
   "execution_count": 36,
   "metadata": {},
   "outputs": [],
   "source": [
    "class custom_dense(Layer):\n",
    "    def __init__(self, n_outputs):\n",
    "        super().__init__()\n",
    "        self.n_outputs = n_outputs\n",
    "\n",
    "    def build(self, input_shape):\n",
    "        self.w = self.add_weight(\n",
    "            shape=(input_shape[-1], self.n_outputs),\n",
    "            trainable=True,\n",
    "            initializer=\"random_normal\",\n",
    "        )\n",
    "        self.b = self.add_weight(\n",
    "            shape=(1, self.n_outputs), trainable=True, initializer=\"random_normal\"\n",
    "        )\n",
    "\n",
    "    def call(self, input_data):\n",
    "        return tf.matmul(input_data, self.w) + self.b"
   ]
  },
  {
   "cell_type": "code",
   "execution_count": 37,
   "metadata": {},
   "outputs": [
    {
     "data": {
      "text/plain": [
       "<tf.Tensor: shape=(1, 4), dtype=float32, numpy=\n",
       "array([[-0.01269427, -0.00236557,  0.00012765, -0.06039133]],\n",
       "      dtype=float32)>"
      ]
     },
     "execution_count": 37,
     "metadata": {},
     "output_type": "execute_result"
    }
   ],
   "source": [
    "cust_layer = custom_dense(4)\n",
    "cust_layer(np.zeros((1, 60)))"
   ]
  },
  {
   "cell_type": "code",
   "execution_count": 44,
   "metadata": {},
   "outputs": [
    {
     "name": "stdout",
     "output_type": "stream",
     "text": [
      "Model: \"sequential_1\"\n",
      "_________________________________________________________________\n",
      " Layer (type)                Output Shape              Param #   \n",
      "=================================================================\n",
      " dense_15 (Dense)            (1, 100)                  6100      \n",
      "                                                                 \n",
      " dense_16 (Dense)            (1, 10)                   1010      \n",
      "                                                                 \n",
      " dense_17 (Dense)            (1, 1)                    11        \n",
      "                                                                 \n",
      "=================================================================\n",
      "Total params: 7,121\n",
      "Trainable params: 7,121\n",
      "Non-trainable params: 0\n",
      "_________________________________________________________________\n"
     ]
    }
   ],
   "source": [
    "cust_layer_model = keras.models.Sequential(\n",
    "    [\n",
    "        layers.Dense(100, activation=\"relu\"),\n",
    "        layers.Dense(10, activation=\"relu\"),\n",
    "        layers.Dense(1, activation=\"sigmoid\"),\n",
    "    ]\n",
    ")\n",
    "\n",
    "cust_layer_model(np.zeros((1, 60)))\n",
    "cust_layer_model.summary()"
   ]
  },
  {
   "cell_type": "code",
   "execution_count": 45,
   "metadata": {},
   "outputs": [],
   "source": [
    "cust_layer_model.compile(\n",
    "    optimizer=keras.optimizers.Adam(),\n",
    "    loss=keras.losses.BinaryCrossentropy(),\n",
    "    metrics=keras.metrics.BinaryAccuracy(),\n",
    ")"
   ]
  },
  {
   "cell_type": "code",
   "execution_count": 46,
   "metadata": {},
   "outputs": [
    {
     "name": "stdout",
     "output_type": "stream",
     "text": [
      "Epoch 1/10\n",
      "6/6 [==============================] - 1s 81ms/step - loss: 0.6985 - binary_accuracy: 0.4940 - val_loss: 0.6961 - val_binary_accuracy: 0.5000\n",
      "Epoch 2/10\n",
      "6/6 [==============================] - 0s 31ms/step - loss: 0.6773 - binary_accuracy: 0.5422 - val_loss: 0.6913 - val_binary_accuracy: 0.5238\n",
      "Epoch 3/10\n",
      "6/6 [==============================] - 0s 27ms/step - loss: 0.6609 - binary_accuracy: 0.5723 - val_loss: 0.6822 - val_binary_accuracy: 0.5476\n",
      "Epoch 4/10\n",
      "6/6 [==============================] - 0s 24ms/step - loss: 0.6459 - binary_accuracy: 0.6205 - val_loss: 0.6715 - val_binary_accuracy: 0.5714\n",
      "Epoch 5/10\n",
      "6/6 [==============================] - 0s 26ms/step - loss: 0.6328 - binary_accuracy: 0.6566 - val_loss: 0.6615 - val_binary_accuracy: 0.6429\n",
      "Epoch 6/10\n",
      "6/6 [==============================] - 0s 26ms/step - loss: 0.6200 - binary_accuracy: 0.7048 - val_loss: 0.6514 - val_binary_accuracy: 0.6429\n",
      "Epoch 7/10\n",
      "6/6 [==============================] - 0s 26ms/step - loss: 0.6072 - binary_accuracy: 0.7108 - val_loss: 0.6419 - val_binary_accuracy: 0.6429\n",
      "Epoch 8/10\n",
      "6/6 [==============================] - 0s 24ms/step - loss: 0.5942 - binary_accuracy: 0.7169 - val_loss: 0.6319 - val_binary_accuracy: 0.6429\n",
      "Epoch 9/10\n",
      "6/6 [==============================] - 0s 25ms/step - loss: 0.5809 - binary_accuracy: 0.7169 - val_loss: 0.6219 - val_binary_accuracy: 0.6429\n",
      "Epoch 10/10\n",
      "6/6 [==============================] - 0s 27ms/step - loss: 0.5680 - binary_accuracy: 0.7229 - val_loss: 0.6131 - val_binary_accuracy: 0.6667\n"
     ]
    },
    {
     "data": {
      "text/plain": [
       "<keras.callbacks.History at 0x20605ce8b50>"
      ]
     },
     "execution_count": 46,
     "metadata": {},
     "output_type": "execute_result"
    }
   ],
   "source": [
    "cust_layer_model.fit(\n",
    "    X, y, batch_size=32, epochs=10, validation_split=0.2, shuffle=False\n",
    ")"
   ]
  },
  {
   "cell_type": "code",
   "execution_count": null,
   "metadata": {},
   "outputs": [],
   "source": []
  }
 ],
 "metadata": {
  "kernelspec": {
   "display_name": "tensorenv",
   "language": "python",
   "name": "python3"
  },
  "language_info": {
   "codemirror_mode": {
    "name": "ipython",
    "version": 3
   },
   "file_extension": ".py",
   "mimetype": "text/x-python",
   "name": "python",
   "nbconvert_exporter": "python",
   "pygments_lexer": "ipython3",
   "version": "3.9.13"
  }
 },
 "nbformat": 4,
 "nbformat_minor": 2
}
